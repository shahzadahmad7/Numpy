{
  "nbformat": 4,
  "nbformat_minor": 0,
  "metadata": {
    "colab": {
      "provenance": [],
      "authorship_tag": "ABX9TyPlzHLc9R/ic+n/uw8U/c+d",
      "include_colab_link": true
    },
    "kernelspec": {
      "name": "python3",
      "display_name": "Python 3"
    },
    "language_info": {
      "name": "python"
    }
  },
  "cells": [
    {
      "cell_type": "markdown",
      "metadata": {
        "id": "view-in-github",
        "colab_type": "text"
      },
      "source": [
        "<a href=\"https://colab.research.google.com/github/shahzadahmad7/Numpy/blob/main/Numpy.ipynb\" target=\"_parent\"><img src=\"https://colab.research.google.com/assets/colab-badge.svg\" alt=\"Open In Colab\"/></a>"
      ]
    },
    {
      "cell_type": "markdown",
      "source": [
        "Numpy, Pandas, Seaborn Exercise"
      ],
      "metadata": {
        "id": "Le2iPRtM210j"
      }
    },
    {
      "cell_type": "markdown",
      "source": [
        "Import NumPy package as np"
      ],
      "metadata": {
        "id": "IIb-OjH8296j"
      }
    },
    {
      "cell_type": "code",
      "execution_count": 1,
      "metadata": {
        "id": "laQeplTX21H0"
      },
      "outputs": [],
      "source": [
        "import numpy as np"
      ]
    },
    {
      "cell_type": "markdown",
      "source": [
        "Create an empty array of 20 0's and replace the 4th object with the number 5"
      ],
      "metadata": {
        "id": "S6FQ4X_T3Rr9"
      }
    },
    {
      "cell_type": "code",
      "source": [
        "array=np.zeros(20)\n",
        "array[3]=20\n",
        "array"
      ],
      "metadata": {
        "colab": {
          "base_uri": "https://localhost:8080/"
        },
        "id": "rrTx7C6f3WFV",
        "outputId": "7b0bbbf9-8485-4563-9a6b-a6d86f6723ba"
      },
      "execution_count": 5,
      "outputs": [
        {
          "output_type": "execute_result",
          "data": {
            "text/plain": [
              "array([ 0.,  0.,  0., 20.,  0.,  0.,  0.,  0.,  0.,  0.,  0.,  0.,  0.,\n",
              "        0.,  0.,  0.,  0.,  0.,  0.,  0.])"
            ]
          },
          "metadata": {},
          "execution_count": 5
        }
      ]
    },
    {
      "cell_type": "markdown",
      "source": [
        "Create an array of 20 1's and store it as a variable named array_master. Copy the same array into another variable named array_copy"
      ],
      "metadata": {
        "id": "SAp_qufx30Pd"
      }
    },
    {
      "cell_type": "code",
      "source": [
        "array_master=np.ones(20)\n",
        "array_copy=array_master.copy()\n",
        "array_copy"
      ],
      "metadata": {
        "colab": {
          "base_uri": "https://localhost:8080/"
        },
        "id": "iFwQZmzU34b4",
        "outputId": "2bab719f-bd67-4300-ee60-ad1492d14071"
      },
      "execution_count": 9,
      "outputs": [
        {
          "output_type": "execute_result",
          "data": {
            "text/plain": [
              "array([1., 1., 1., 1., 1., 1., 1., 1., 1., 1., 1., 1., 1., 1., 1., 1., 1.,\n",
              "       1., 1., 1.])"
            ]
          },
          "metadata": {},
          "execution_count": 9
        }
      ]
    },
    {
      "cell_type": "markdown",
      "source": [
        "Create an array containing 30 1's and broadcast all the one's to the value 100"
      ],
      "metadata": {
        "id": "eNZQ1xIo4fXp"
      }
    },
    {
      "cell_type": "code",
      "source": [
        "ar=np.ones(30)\n",
        "ar[:]=100\n",
        "ar"
      ],
      "metadata": {
        "colab": {
          "base_uri": "https://localhost:8080/"
        },
        "id": "G1PucNKv4gIZ",
        "outputId": "2ffc4652-5b81-40f9-df86-78c05be25c6a"
      },
      "execution_count": 11,
      "outputs": [
        {
          "output_type": "execute_result",
          "data": {
            "text/plain": [
              "array([100., 100., 100., 100., 100., 100., 100., 100., 100., 100., 100.,\n",
              "       100., 100., 100., 100., 100., 100., 100., 100., 100., 100., 100.,\n",
              "       100., 100., 100., 100., 100., 100., 100., 100.])"
            ]
          },
          "metadata": {},
          "execution_count": 11
        }
      ]
    },
    {
      "cell_type": "markdown",
      "source": [
        "Create an array of integers starting from 21 until 31 and name it as array1\n",
        "\n",
        "Create an array of integers starting from 11 until 21 and name it array2\n",
        "\n",
        "Calculate the difference between array1 and array2"
      ],
      "metadata": {
        "id": "lNLDwsa24wZK"
      }
    },
    {
      "cell_type": "code",
      "source": [
        "array1=np.arange(21,32)\n",
        "array2=np.arange(11,22)\n",
        "array1-array2"
      ],
      "metadata": {
        "colab": {
          "base_uri": "https://localhost:8080/"
        },
        "id": "chrOj2EN491T",
        "outputId": "4c140db2-664f-4e0f-ec17-34aed9562488"
      },
      "execution_count": 15,
      "outputs": [
        {
          "output_type": "execute_result",
          "data": {
            "text/plain": [
              "array([10, 10, 10, 10, 10, 10, 10, 10, 10, 10, 10])"
            ]
          },
          "metadata": {},
          "execution_count": 15
        }
      ]
    },
    {
      "cell_type": "markdown",
      "source": [
        "Create an array of all even integers from 2 to 10 and name it a1\n",
        "\n",
        "Create an array of all even integers from 22 to 30 and name it a2\n",
        "\n",
        "Use the 2 arrays as rows and create a matrix [ Hint - Use stack function from numpy"
      ],
      "metadata": {
        "id": "cR6mjWsp5gXy"
      }
    },
    {
      "cell_type": "code",
      "source": [
        "a1=np.arange(2,11,2)\n",
        "a2=np.arange(22,31,2)\n",
        "np.stack((a1,a2))"
      ],
      "metadata": {
        "colab": {
          "base_uri": "https://localhost:8080/"
        },
        "id": "Hi2CD5xO5jB2",
        "outputId": "d84a48f2-b7b8-4062-e973-80e60520a396"
      },
      "execution_count": 20,
      "outputs": [
        {
          "output_type": "execute_result",
          "data": {
            "text/plain": [
              "array([[ 2,  4,  6,  8, 10],\n",
              "       [22, 24, 26, 28, 30]])"
            ]
          },
          "metadata": {},
          "execution_count": 20
        }
      ]
    },
    {
      "cell_type": "markdown",
      "source": [
        "Use the 2 above arrays as columns and create a matrix [ Hint - Use column_stack function from numpy ]"
      ],
      "metadata": {
        "id": "MWWdyqNl6Mxg"
      }
    },
    {
      "cell_type": "code",
      "source": [
        "np.column_stack((a1,a2))"
      ],
      "metadata": {
        "colab": {
          "base_uri": "https://localhost:8080/"
        },
        "id": "V9cQr2ur6S0z",
        "outputId": "a5ff8edd-b9a7-42aa-c82f-f05d1cfe35a7"
      },
      "execution_count": 21,
      "outputs": [
        {
          "output_type": "execute_result",
          "data": {
            "text/plain": [
              "array([[ 2, 22],\n",
              "       [ 4, 24],\n",
              "       [ 6, 26],\n",
              "       [ 8, 28],\n",
              "       [10, 30]])"
            ]
          },
          "metadata": {},
          "execution_count": 21
        }
      ]
    },
    {
      "cell_type": "markdown",
      "source": [
        "Create a 5x6 matrix with values ranging from 0 to 29 and retrieve the value intersecting at 2nd row and 3rd column"
      ],
      "metadata": {
        "id": "EyONRo8a6dbD"
      }
    },
    {
      "cell_type": "code",
      "source": [
        "ar_matrix=np.arange(30).reshape(5,6)\n",
        "ar_matrix[1,2]"
      ],
      "metadata": {
        "colab": {
          "base_uri": "https://localhost:8080/"
        },
        "id": "-Cer-wup6eRM",
        "outputId": "2c9ecec8-a160-415f-eb4c-c5ddb4df4a8f"
      },
      "execution_count": 26,
      "outputs": [
        {
          "output_type": "execute_result",
          "data": {
            "text/plain": [
              "8"
            ]
          },
          "metadata": {},
          "execution_count": 26
        }
      ]
    },
    {
      "cell_type": "markdown",
      "source": [
        "Create an identity matrix of shape 10x10 and replace the 0's with the value 21"
      ],
      "metadata": {
        "id": "7L5WOr637OUm"
      }
    },
    {
      "cell_type": "code",
      "source": [
        "id_matrix=np.eye(10)\n",
        "id_matrix[id_matrix==0]=21\n",
        "id_matrix"
      ],
      "metadata": {
        "colab": {
          "base_uri": "https://localhost:8080/"
        },
        "id": "u_bvHCLf7SNC",
        "outputId": "4a8b6142-3864-4f96-a371-5dd91ad6dc7b"
      },
      "execution_count": 28,
      "outputs": [
        {
          "output_type": "execute_result",
          "data": {
            "text/plain": [
              "array([[ 1., 21., 21., 21., 21., 21., 21., 21., 21., 21.],\n",
              "       [21.,  1., 21., 21., 21., 21., 21., 21., 21., 21.],\n",
              "       [21., 21.,  1., 21., 21., 21., 21., 21., 21., 21.],\n",
              "       [21., 21., 21.,  1., 21., 21., 21., 21., 21., 21.],\n",
              "       [21., 21., 21., 21.,  1., 21., 21., 21., 21., 21.],\n",
              "       [21., 21., 21., 21., 21.,  1., 21., 21., 21., 21.],\n",
              "       [21., 21., 21., 21., 21., 21.,  1., 21., 21., 21.],\n",
              "       [21., 21., 21., 21., 21., 21., 21.,  1., 21., 21.],\n",
              "       [21., 21., 21., 21., 21., 21., 21., 21.,  1., 21.],\n",
              "       [21., 21., 21., 21., 21., 21., 21., 21., 21.,  1.]])"
            ]
          },
          "metadata": {},
          "execution_count": 28
        }
      ]
    },
    {
      "cell_type": "markdown",
      "source": [
        "Use NumPy to generate a random set of 10 numbers between 0 and 1\n",
        "\n",
        "Display a boolean array output where all values > 0.2 are True, rest are marked as False"
      ],
      "metadata": {
        "id": "9Q1hwKVV7t0F"
      }
    },
    {
      "cell_type": "code",
      "source": [
        "ar=np.random.rand(10)\n",
        "#The rand() function is used to generate random numbers in the interval [0, 1).\n",
        "ar>0.2"
      ],
      "metadata": {
        "colab": {
          "base_uri": "https://localhost:8080/"
        },
        "id": "VLhzblzU7veo",
        "outputId": "f4ca9952-ea3a-4bc8-fb16-67c4a775b73c"
      },
      "execution_count": 32,
      "outputs": [
        {
          "output_type": "execute_result",
          "data": {
            "text/plain": [
              "array([ True,  True,  True,  True,  True,  True, False, False, False,\n",
              "        True])"
            ]
          },
          "metadata": {},
          "execution_count": 32
        }
      ]
    },
    {
      "cell_type": "markdown",
      "source": [
        "Use NumPy to generate an array matrix of 5x2 random numbers sampled from a standard normal distribution"
      ],
      "metadata": {
        "id": "aPeCqu9z8pQw"
      }
    },
    {
      "cell_type": "code",
      "source": [
        "arr=np.random.randn(5,2)\n",
        "arr #np.random.randn is used to generate an array of random numbers following a standard normal distribution\n",
        "    #(also known as a Gaussian distribution) with a mean of 0 and a standard deviation of 1."
      ],
      "metadata": {
        "colab": {
          "base_uri": "https://localhost:8080/"
        },
        "id": "d67xUwxk8t_8",
        "outputId": "30c6ef1a-1d34-4fb1-8af0-d8a39aed95b0"
      },
      "execution_count": 38,
      "outputs": [
        {
          "output_type": "execute_result",
          "data": {
            "text/plain": [
              "array([[-0.37401656,  2.20946211],\n",
              "       [ 0.8285941 ,  0.88289726],\n",
              "       [ 1.52765844, -0.08653135],\n",
              "       [-0.13486544,  0.6843302 ],\n",
              "       [-0.65128156,  0.09573845]])"
            ]
          },
          "metadata": {},
          "execution_count": 38
        }
      ]
    },
    {
      "cell_type": "markdown",
      "source": [
        "Create an array of 30 linearly spaced points between 0 and 100"
      ],
      "metadata": {
        "id": "p6jt8sIs91pO"
      }
    },
    {
      "cell_type": "code",
      "source": [
        "np.linspace(0,100)"
      ],
      "metadata": {
        "colab": {
          "base_uri": "https://localhost:8080/"
        },
        "id": "cGLPBf9H99bu",
        "outputId": "742b1e1d-8464-449d-9a0e-843fa7253cc6"
      },
      "execution_count": 40,
      "outputs": [
        {
          "output_type": "execute_result",
          "data": {
            "text/plain": [
              "array([  0.        ,   2.04081633,   4.08163265,   6.12244898,\n",
              "         8.16326531,  10.20408163,  12.24489796,  14.28571429,\n",
              "        16.32653061,  18.36734694,  20.40816327,  22.44897959,\n",
              "        24.48979592,  26.53061224,  28.57142857,  30.6122449 ,\n",
              "        32.65306122,  34.69387755,  36.73469388,  38.7755102 ,\n",
              "        40.81632653,  42.85714286,  44.89795918,  46.93877551,\n",
              "        48.97959184,  51.02040816,  53.06122449,  55.10204082,\n",
              "        57.14285714,  59.18367347,  61.2244898 ,  63.26530612,\n",
              "        65.30612245,  67.34693878,  69.3877551 ,  71.42857143,\n",
              "        73.46938776,  75.51020408,  77.55102041,  79.59183673,\n",
              "        81.63265306,  83.67346939,  85.71428571,  87.75510204,\n",
              "        89.79591837,  91.83673469,  93.87755102,  95.91836735,\n",
              "        97.95918367, 100.        ])"
            ]
          },
          "metadata": {},
          "execution_count": 40
        }
      ]
    },
    {
      "cell_type": "markdown",
      "source": [
        "**Numpy Indexing and Selections**"
      ],
      "metadata": {
        "id": "pBz0SGS1-S9A"
      }
    },
    {
      "cell_type": "markdown",
      "source": [
        "Generate the following output\n",
        "\n",
        "array([[  1,   2,   3,   4,   5,   6,   7,   8,   9,  10],\n",
        "       [ 11,  12,  13,  14,  15,  16,  17,  18,  19,  20],\n",
        "       [ 21,  22,  23,  24,  25,  26,  27,  28,  29,  30],\n",
        "       [ 31,  32,  33,  34,  35,  36,  37,  38,  39,  40],\n",
        "       [ 41,  42,  43,  44,  45,  46,  47,  48,  49,  50],\n",
        "       [ 51,  52,  53,  54,  55,  56,  57,  58,  59,  60],\n",
        "       [ 61,  62,  63,  64,  65,  66,  67,  68,  69,  70],\n",
        "       [ 71,  72,  73,  74,  75,  76,  77,  78,  79,  80],\n",
        "       [ 81,  82,  83,  84,  85,  86,  87,  88,  89,  90],\n",
        "       [ 91,  92,  93,  94,  95,  96,  97,  98,  99, 100]]"
      ],
      "metadata": {
        "id": "hPRwYzqp-Y_6"
      }
    },
    {
      "cell_type": "code",
      "source": [
        "arr1=np.arange(1,101).reshape(10,10)\n",
        "arr1"
      ],
      "metadata": {
        "colab": {
          "base_uri": "https://localhost:8080/"
        },
        "id": "jM-3X1dV-fLD",
        "outputId": "6a0efd30-0aa0-4f4e-893d-eea89cc189d0"
      },
      "execution_count": 45,
      "outputs": [
        {
          "output_type": "execute_result",
          "data": {
            "text/plain": [
              "array([[  1,   2,   3,   4,   5,   6,   7,   8,   9,  10],\n",
              "       [ 11,  12,  13,  14,  15,  16,  17,  18,  19,  20],\n",
              "       [ 21,  22,  23,  24,  25,  26,  27,  28,  29,  30],\n",
              "       [ 31,  32,  33,  34,  35,  36,  37,  38,  39,  40],\n",
              "       [ 41,  42,  43,  44,  45,  46,  47,  48,  49,  50],\n",
              "       [ 51,  52,  53,  54,  55,  56,  57,  58,  59,  60],\n",
              "       [ 61,  62,  63,  64,  65,  66,  67,  68,  69,  70],\n",
              "       [ 71,  72,  73,  74,  75,  76,  77,  78,  79,  80],\n",
              "       [ 81,  82,  83,  84,  85,  86,  87,  88,  89,  90],\n",
              "       [ 91,  92,  93,  94,  95,  96,  97,  98,  99, 100]])"
            ]
          },
          "metadata": {},
          "execution_count": 45
        }
      ]
    },
    {
      "cell_type": "markdown",
      "source": [
        "a) Retrieve the last 2 rows and first 3 column values of the above matrix using index & selection technique"
      ],
      "metadata": {
        "id": "kptfG1qy-7E-"
      }
    },
    {
      "cell_type": "code",
      "source": [
        "arr1[8:,:3]"
      ],
      "metadata": {
        "colab": {
          "base_uri": "https://localhost:8080/"
        },
        "id": "uDpHWO4j_CxU",
        "outputId": "150ceea3-d1db-42bb-eb4c-4c8e4709bf08"
      },
      "execution_count": 47,
      "outputs": [
        {
          "output_type": "execute_result",
          "data": {
            "text/plain": [
              "array([[81, 82, 83],\n",
              "       [91, 92, 93]])"
            ]
          },
          "metadata": {},
          "execution_count": 47
        }
      ]
    },
    {
      "cell_type": "markdown",
      "source": [
        "b) Retrieve the value 55 from the above matrix using index & selection technique"
      ],
      "metadata": {
        "id": "V6IP8Eqs_dSJ"
      }
    },
    {
      "cell_type": "code",
      "source": [
        "arr1[5,4]"
      ],
      "metadata": {
        "colab": {
          "base_uri": "https://localhost:8080/"
        },
        "id": "zy-e0qxl_e3m",
        "outputId": "c4ad297d-47f2-4355-abf6-38af2240fe5f"
      },
      "execution_count": 54,
      "outputs": [
        {
          "output_type": "execute_result",
          "data": {
            "text/plain": [
              "55"
            ]
          },
          "metadata": {},
          "execution_count": 54
        }
      ]
    },
    {
      "cell_type": "markdown",
      "source": [
        "c) Retrieve the values from the 3rd column in the above matrix"
      ],
      "metadata": {
        "id": "wZVZjPdCAE6I"
      }
    },
    {
      "cell_type": "code",
      "source": [
        "arr1[:,2]"
      ],
      "metadata": {
        "colab": {
          "base_uri": "https://localhost:8080/"
        },
        "id": "Eg6DfP9gAJ-F",
        "outputId": "3f14d93c-6b1b-49f2-edc2-54df0e91efc0"
      },
      "execution_count": 59,
      "outputs": [
        {
          "output_type": "execute_result",
          "data": {
            "text/plain": [
              "array([ 3, 13, 23, 33, 43, 53, 63, 73, 83, 93])"
            ]
          },
          "metadata": {},
          "execution_count": 59
        }
      ]
    },
    {
      "cell_type": "markdown",
      "source": [
        "d) Retrieve the values from the 4th row in the above matrix"
      ],
      "metadata": {
        "id": "LbiNASqsAc4G"
      }
    },
    {
      "cell_type": "code",
      "source": [
        "arr1[3,:]"
      ],
      "metadata": {
        "colab": {
          "base_uri": "https://localhost:8080/"
        },
        "id": "KdZ48ZvdAeHb",
        "outputId": "9fdb3571-4ec0-47a5-cf97-2fa1f89fed8f"
      },
      "execution_count": 62,
      "outputs": [
        {
          "output_type": "execute_result",
          "data": {
            "text/plain": [
              "array([31, 32, 33, 34, 35, 36, 37, 38, 39, 40])"
            ]
          },
          "metadata": {},
          "execution_count": 62
        }
      ]
    },
    {
      "cell_type": "markdown",
      "source": [
        "e) Retrieve values from the 2nd & 4th rows in the above matrix"
      ],
      "metadata": {
        "id": "SMUCImiVAuEO"
      }
    },
    {
      "cell_type": "code",
      "source": [
        "arr1[(1,3),:]"
      ],
      "metadata": {
        "colab": {
          "base_uri": "https://localhost:8080/"
        },
        "id": "32KIZoN4A1bC",
        "outputId": "3b39810f-9387-4b14-a4f3-623f1a68de44"
      },
      "execution_count": 63,
      "outputs": [
        {
          "output_type": "execute_result",
          "data": {
            "text/plain": [
              "array([[11, 12, 13, 14, 15, 16, 17, 18, 19, 20],\n",
              "       [31, 32, 33, 34, 35, 36, 37, 38, 39, 40]])"
            ]
          },
          "metadata": {},
          "execution_count": 63
        }
      ]
    },
    {
      "cell_type": "markdown",
      "source": [
        "**Calculate the following values for the given matrix**\n",
        "\n",
        "a) Calculate sum of all the values in the matrix"
      ],
      "metadata": {
        "id": "J0iY0UHGBEWG"
      }
    },
    {
      "cell_type": "code",
      "source": [
        "arr1.sum()"
      ],
      "metadata": {
        "colab": {
          "base_uri": "https://localhost:8080/"
        },
        "id": "1CicO__YBJsu",
        "outputId": "32010e29-c6ce-451f-d183-8197987da936"
      },
      "execution_count": 64,
      "outputs": [
        {
          "output_type": "execute_result",
          "data": {
            "text/plain": [
              "5050"
            ]
          },
          "metadata": {},
          "execution_count": 64
        }
      ]
    },
    {
      "cell_type": "markdown",
      "source": [
        "b) Calculate standard deviation of all the values in the matrix"
      ],
      "metadata": {
        "id": "-aSx6JL8BMk1"
      }
    },
    {
      "cell_type": "code",
      "source": [
        "arr1.std()"
      ],
      "metadata": {
        "colab": {
          "base_uri": "https://localhost:8080/"
        },
        "id": "s3yVsLcxBRZK",
        "outputId": "b658ffb2-4b63-4020-9aa1-136e869a8cda"
      },
      "execution_count": 65,
      "outputs": [
        {
          "output_type": "execute_result",
          "data": {
            "text/plain": [
              "28.86607004772212"
            ]
          },
          "metadata": {},
          "execution_count": 65
        }
      ]
    },
    {
      "cell_type": "markdown",
      "source": [
        "c) Calculate the variance of all values in the matrix"
      ],
      "metadata": {
        "id": "L9I2ecOMBUhb"
      }
    },
    {
      "cell_type": "code",
      "source": [
        "arr1.var()"
      ],
      "metadata": {
        "colab": {
          "base_uri": "https://localhost:8080/"
        },
        "id": "IcdJAHbeBYqF",
        "outputId": "3fd1300e-1167-4d21-b8a3-9ceb5acae94b"
      },
      "execution_count": 66,
      "outputs": [
        {
          "output_type": "execute_result",
          "data": {
            "text/plain": [
              "833.25"
            ]
          },
          "metadata": {},
          "execution_count": 66
        }
      ]
    },
    {
      "cell_type": "markdown",
      "source": [
        "d) Calculate the mean of all values in the matrix"
      ],
      "metadata": {
        "id": "XNqsaidKBhL7"
      }
    },
    {
      "cell_type": "code",
      "source": [
        "arr1.mean()"
      ],
      "metadata": {
        "colab": {
          "base_uri": "https://localhost:8080/"
        },
        "id": "f1QEdE2gBiDx",
        "outputId": "8d1848da-cea5-4cbc-a98e-2cda7d14373b"
      },
      "execution_count": 67,
      "outputs": [
        {
          "output_type": "execute_result",
          "data": {
            "text/plain": [
              "50.5"
            ]
          },
          "metadata": {},
          "execution_count": 67
        }
      ]
    },
    {
      "cell_type": "markdown",
      "source": [
        "e) Retrieve the largest number from the matrix"
      ],
      "metadata": {
        "id": "_pvWq3j3BpkC"
      }
    },
    {
      "cell_type": "code",
      "source": [
        "arr1.max()"
      ],
      "metadata": {
        "colab": {
          "base_uri": "https://localhost:8080/"
        },
        "id": "G_3cc3dfBqZw",
        "outputId": "c9c800ec-0aef-4b5d-fa39-229dfb962db8"
      },
      "execution_count": 68,
      "outputs": [
        {
          "output_type": "execute_result",
          "data": {
            "text/plain": [
              "100"
            ]
          },
          "metadata": {},
          "execution_count": 68
        }
      ]
    },
    {
      "cell_type": "markdown",
      "source": [
        "f) Retrieve the smallest number from the matrix"
      ],
      "metadata": {
        "id": "8by9hFmfBtnH"
      }
    },
    {
      "cell_type": "code",
      "source": [
        "arr1.min()"
      ],
      "metadata": {
        "colab": {
          "base_uri": "https://localhost:8080/"
        },
        "id": "gJRqAcjiBxrV",
        "outputId": "51ff0e04-b684-4cfd-878e-64c3ee29f30b"
      },
      "execution_count": 69,
      "outputs": [
        {
          "output_type": "execute_result",
          "data": {
            "text/plain": [
              "1"
            ]
          },
          "metadata": {},
          "execution_count": 69
        }
      ]
    }
  ]
}